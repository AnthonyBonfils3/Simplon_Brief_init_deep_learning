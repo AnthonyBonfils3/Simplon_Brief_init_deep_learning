{
 "cells": [
  {
   "cell_type": "code",
   "execution_count": 1,
   "metadata": {
    "colab": {
     "base_uri": "https://localhost:8080/"
    },
    "executionInfo": {
     "elapsed": 4586,
     "status": "ok",
     "timestamp": 1615901288873,
     "user": {
      "displayName": "Anthony BONFILS",
      "photoUrl": "",
      "userId": "14510571853712567813"
     },
     "user_tz": -60
    },
    "id": "r_rhwySD4mjo",
    "outputId": "11df9842-8ab1-43d5-ff4d-d2ac025c8e46"
   },
   "outputs": [
    {
     "name": "stdout",
     "output_type": "stream",
     "text": [
      "Collecting tweet-preprocessor\n",
      "  Downloading https://files.pythonhosted.org/packages/17/9d/71bd016a9edcef8860c607e531f30bd09b13103c7951ae73dd2bf174163c/tweet_preprocessor-0.6.0-py3-none-any.whl\n",
      "Installing collected packages: tweet-preprocessor\n",
      "Successfully installed tweet-preprocessor-0.6.0\n"
     ]
    }
   ],
   "source": [
    "# dependencies. \n",
    "## colab version (Uncomment the below line)\n",
    "\n",
    "#!pip install tweet-preprocessor\n",
    "\n",
    "##Jupyter notebook version\n",
    "\n",
    "import sys\n",
    "!{sys.executable} -m pip install tweet-preprocessor "
   ]
  },
  {
   "cell_type": "code",
   "execution_count": 2,
   "metadata": {
    "colab": {
     "base_uri": "https://localhost:8080/"
    },
    "executionInfo": {
     "elapsed": 7890,
     "status": "ok",
     "timestamp": 1615901293246,
     "user": {
      "displayName": "Anthony BONFILS",
      "photoUrl": "",
      "userId": "14510571853712567813"
     },
     "user_tz": -60
    },
    "id": "_mYVnW4x444s",
    "outputId": "0e8dd9f2-79d8-4d0b-87de-a8a155a3b7e5"
   },
   "outputs": [
    {
     "name": "stdout",
     "output_type": "stream",
     "text": [
      "[nltk_data] Downloading package punkt to /root/nltk_data...\n",
      "[nltk_data]   Unzipping tokenizers/punkt.zip.\n",
      "[nltk_data] Downloading package wordnet to /root/nltk_data...\n",
      "[nltk_data]   Unzipping corpora/wordnet.zip.\n",
      "[nltk_data] Downloading package stopwords to /root/nltk_data...\n",
      "[nltk_data]   Unzipping corpora/stopwords.zip.\n"
     ]
    },
    {
     "data": {
      "text/plain": [
       "True"
      ]
     },
     "execution_count": 2,
     "metadata": {
      "tags": []
     },
     "output_type": "execute_result"
    }
   ],
   "source": [
    "import pandas as pd\n",
    "import numpy as np\n",
    "import re, os, csv\n",
    "import itertools, pickle\n",
    "import matplotlib.pyplot as plt\n",
    "from tensorflow.keras.utils import to_categorical\n",
    "from nltk.corpus import stopwords\n",
    "from nltk.tokenize import word_tokenize, TweetTokenizer\n",
    "from collections import Counter\n",
    "from tensorflow.keras.preprocessing import text\n",
    "from tensorflow.keras.preprocessing.sequence import pad_sequences\n",
    "from tensorflow.keras.models import Sequential\n",
    "from tensorflow.keras import layers\n",
    "from sklearn.model_selection import train_test_split\n",
    "from sklearn.metrics import classification_report, confusion_matrix\n",
    "import tensorflow as tf\n",
    "from tensorflow.keras.layers import *\n",
    "from tensorflow.keras import backend as K\n",
    "import nltk\n",
    "import statistics\n",
    "import preprocessor as p\n",
    "nltk.download('punkt')\n",
    "nltk.download('wordnet')\n",
    "nltk.download('stopwords')"
   ]
  },
  {
   "cell_type": "code",
   "execution_count": 3,
   "metadata": {
    "colab": {
     "base_uri": "https://localhost:8080/"
    },
    "executionInfo": {
     "elapsed": 7119,
     "status": "ok",
     "timestamp": 1615901293248,
     "user": {
      "displayName": "Anthony BONFILS",
      "photoUrl": "",
      "userId": "14510571853712567813"
     },
     "user_tz": -60
    },
    "id": "DWTMIBRd5CF8",
    "outputId": "0abd8ef9-540f-49b6-ce6d-b3f8e623dad7"
   },
   "outputs": [
    {
     "name": "stdout",
     "output_type": "stream",
     "text": [
      "                                             content  sentiment\n",
      "0  do not get angry or frustrated or desperate or...          4\n",
      "1  sickening i hurt for florida later for the wha...          4\n",
      "2  this rainfall is a savage y fall when am in d ...          4\n",
      "3  angry guy screws his gf in very rude manner po...          4\n",
      "4  silence is better when you re angry and frustr...          4\n"
     ]
    }
   ],
   "source": [
    "# Loading the data.\n",
    "raw_data = pd.read_csv('tweet_data.csv', names=[\"content\", \"sentiment\"])\n",
    "raw_data = raw_data.dropna()\n",
    "cleaned_data = raw_data.reset_index(drop = True)\n",
    "print(cleaned_data.head())"
   ]
  },
  {
   "cell_type": "code",
   "execution_count": 31,
   "metadata": {
    "colab": {
     "base_uri": "https://localhost:8080/"
    },
    "executionInfo": {
     "elapsed": 666,
     "status": "ok",
     "timestamp": 1615905000301,
     "user": {
      "displayName": "Anthony BONFILS",
      "photoUrl": "",
      "userId": "14510571853712567813"
     },
     "user_tz": -60
    },
    "id": "v_em2XsOcX49",
    "outputId": "b2cd0fe3-b371-44d2-8cbe-dbe6443fba2a"
   },
   "outputs": [
    {
     "name": "stdout",
     "output_type": "stream",
     "text": [
      "Counter({1: 16293, 2: 15931, 0: 9573, 3: 4300, 4: 1109})\n",
      "apparition of the most freq emotion (1) : 16293 times\n"
     ]
    }
   ],
   "source": [
    "elements = Counter(cleaned_data[\"sentiment\"])\n",
    "print(elements)\n",
    "most_freq_emotion = elements.most_common()[0][0]\n",
    "print(f\"apparition of the most freq emotion ({most_freq_emotion}) : {elements[most_freq_emotion]} times\")"
   ]
  },
  {
   "cell_type": "code",
   "execution_count": 4,
   "metadata": {
    "executionInfo": {
     "elapsed": 4136,
     "status": "ok",
     "timestamp": 1615901293561,
     "user": {
      "displayName": "Anthony BONFILS",
      "photoUrl": "",
      "userId": "14510571853712567813"
     },
     "user_tz": -60
    },
    "id": "aSV9NbGvBSup"
   },
   "outputs": [],
   "source": [
    "# changing the labels into one hot vectors for training. \n",
    "y_data = to_categorical(cleaned_data['sentiment'])"
   ]
  },
  {
   "cell_type": "code",
   "execution_count": 5,
   "metadata": {
    "colab": {
     "base_uri": "https://localhost:8080/",
     "height": 207
    },
    "executionInfo": {
     "elapsed": 4409,
     "status": "ok",
     "timestamp": 1615901332632,
     "user": {
      "displayName": "Anthony BONFILS",
      "photoUrl": "",
      "userId": "14510571853712567813"
     },
     "user_tz": -60
    },
    "id": "NKUDjEM6554e",
    "outputId": "e33bcf2e-0cba-4e40-eefb-18a3db518350"
   },
   "outputs": [
    {
     "data": {
      "text/html": [
       "<div>\n",
       "<style scoped>\n",
       "    .dataframe tbody tr th:only-of-type {\n",
       "        vertical-align: middle;\n",
       "    }\n",
       "\n",
       "    .dataframe tbody tr th {\n",
       "        vertical-align: top;\n",
       "    }\n",
       "\n",
       "    .dataframe thead th {\n",
       "        text-align: right;\n",
       "    }\n",
       "</style>\n",
       "<table border=\"1\" class=\"dataframe\">\n",
       "  <thead>\n",
       "    <tr style=\"text-align: right;\">\n",
       "      <th></th>\n",
       "      <th>content</th>\n",
       "      <th>sentiment</th>\n",
       "    </tr>\n",
       "  </thead>\n",
       "  <tbody>\n",
       "    <tr>\n",
       "      <th>0</th>\n",
       "      <td>do not get angry or frustrated or desperate or...</td>\n",
       "      <td>4</td>\n",
       "    </tr>\n",
       "    <tr>\n",
       "      <th>1</th>\n",
       "      <td>sickening i hurt for florida later for the wha...</td>\n",
       "      <td>4</td>\n",
       "    </tr>\n",
       "    <tr>\n",
       "      <th>2</th>\n",
       "      <td>this rainfall is a savage y fall when am in d ...</td>\n",
       "      <td>4</td>\n",
       "    </tr>\n",
       "    <tr>\n",
       "      <th>3</th>\n",
       "      <td>angry guy screws his gf in very rude manner po...</td>\n",
       "      <td>4</td>\n",
       "    </tr>\n",
       "    <tr>\n",
       "      <th>4</th>\n",
       "      <td>silence is better when you re angry and frustr...</td>\n",
       "      <td>4</td>\n",
       "    </tr>\n",
       "  </tbody>\n",
       "</table>\n",
       "</div>"
      ],
      "text/plain": [
       "                                             content  sentiment\n",
       "0  do not get angry or frustrated or desperate or...          4\n",
       "1  sickening i hurt for florida later for the wha...          4\n",
       "2  this rainfall is a savage y fall when am in d ...          4\n",
       "3  angry guy screws his gf in very rude manner po...          4\n",
       "4  silence is better when you re angry and frustr...          4"
      ]
     },
     "execution_count": 5,
     "metadata": {
      "tags": []
     },
     "output_type": "execute_result"
    }
   ],
   "source": [
    "#cleaning the data. \n",
    "cleaned_data['content'] = cleaned_data['content'].map(p.clean)\n",
    "cleaned_data.head()"
   ]
  },
  {
   "cell_type": "code",
   "execution_count": 6,
   "metadata": {
    "executionInfo": {
     "elapsed": 3659,
     "status": "ok",
     "timestamp": 1615901332635,
     "user": {
      "displayName": "Anthony BONFILS",
      "photoUrl": "",
      "userId": "14510571853712567813"
     },
     "user_tz": -60
    },
    "id": "hnK1i7-q6R0r"
   },
   "outputs": [],
   "source": [
    "## Code to preprocess tweet data.\n",
    "\n",
    "def preprocess_data(data):\n",
    "    #Removes Numbers\n",
    "    data = data.astype(str).str.replace('\\d+', '')\n",
    "    lower_text = data.str.lower()\n",
    "    lemmatizer = nltk.stem.WordNetLemmatizer()\n",
    "    w_tokenizer =  TweetTokenizer()\n",
    "\n",
    "    def lemmatize_text(text):\n",
    "        return [(lemmatizer.lemmatize(w)) for w \\\n",
    "                        in w_tokenizer.tokenize((text))]\n",
    "    def remove_punctuation(words):\n",
    "        new_words = []\n",
    "        for word in words:\n",
    "            new_word = re.sub(r'[^\\w\\s]', '', (word))\n",
    "            if new_word != '':\n",
    "                new_words.append(new_word)\n",
    "        return new_words\n",
    "    words = lower_text.apply(lemmatize_text)\n",
    "    words = words.apply(remove_punctuation)\n",
    "    return pd.DataFrame(words)"
   ]
  },
  {
   "cell_type": "code",
   "execution_count": 7,
   "metadata": {
    "colab": {
     "base_uri": "https://localhost:8080/",
     "height": 424
    },
    "executionInfo": {
     "elapsed": 623,
     "status": "ok",
     "timestamp": 1615901337229,
     "user": {
      "displayName": "Anthony BONFILS",
      "photoUrl": "",
      "userId": "14510571853712567813"
     },
     "user_tz": -60
    },
    "id": "L1kquzITMFbj",
    "outputId": "0e9317a4-8628-4cc1-8c0b-26ce5a65755a"
   },
   "outputs": [
    {
     "data": {
      "text/html": [
       "<div>\n",
       "<style scoped>\n",
       "    .dataframe tbody tr th:only-of-type {\n",
       "        vertical-align: middle;\n",
       "    }\n",
       "\n",
       "    .dataframe tbody tr th {\n",
       "        vertical-align: top;\n",
       "    }\n",
       "\n",
       "    .dataframe thead th {\n",
       "        text-align: right;\n",
       "    }\n",
       "</style>\n",
       "<table border=\"1\" class=\"dataframe\">\n",
       "  <thead>\n",
       "    <tr style=\"text-align: right;\">\n",
       "      <th></th>\n",
       "      <th>content</th>\n",
       "    </tr>\n",
       "  </thead>\n",
       "  <tbody>\n",
       "    <tr>\n",
       "      <th>0</th>\n",
       "      <td>do not get angry or frustrated or desperate or...</td>\n",
       "    </tr>\n",
       "    <tr>\n",
       "      <th>1</th>\n",
       "      <td>sickening i hurt for florida later for the wha...</td>\n",
       "    </tr>\n",
       "    <tr>\n",
       "      <th>2</th>\n",
       "      <td>this rainfall is a savage y fall when am in d ...</td>\n",
       "    </tr>\n",
       "    <tr>\n",
       "      <th>3</th>\n",
       "      <td>angry guy screws his gf in very rude manner po...</td>\n",
       "    </tr>\n",
       "    <tr>\n",
       "      <th>4</th>\n",
       "      <td>silence is better when you re angry and frustr...</td>\n",
       "    </tr>\n",
       "    <tr>\n",
       "      <th>...</th>\n",
       "      <td>...</td>\n",
       "    </tr>\n",
       "    <tr>\n",
       "      <th>47201</th>\n",
       "      <td>okla man learns fate for hate crime slaying of...</td>\n",
       "    </tr>\n",
       "    <tr>\n",
       "      <th>47202</th>\n",
       "      <td>i am positive that i want to stay uplifted des...</td>\n",
       "    </tr>\n",
       "    <tr>\n",
       "      <th>47203</th>\n",
       "      <td>okla man sentenced for hate crime slaying of l...</td>\n",
       "    </tr>\n",
       "    <tr>\n",
       "      <th>47204</th>\n",
       "      <td>just opened this on a train i really hate twit...</td>\n",
       "    </tr>\n",
       "    <tr>\n",
       "      <th>47205</th>\n",
       "      <td>we too are dreamers and angry screamers some b...</td>\n",
       "    </tr>\n",
       "  </tbody>\n",
       "</table>\n",
       "<p>47206 rows × 1 columns</p>\n",
       "</div>"
      ],
      "text/plain": [
       "                                                 content\n",
       "0      do not get angry or frustrated or desperate or...\n",
       "1      sickening i hurt for florida later for the wha...\n",
       "2      this rainfall is a savage y fall when am in d ...\n",
       "3      angry guy screws his gf in very rude manner po...\n",
       "4      silence is better when you re angry and frustr...\n",
       "...                                                  ...\n",
       "47201  okla man learns fate for hate crime slaying of...\n",
       "47202  i am positive that i want to stay uplifted des...\n",
       "47203  okla man sentenced for hate crime slaying of l...\n",
       "47204  just opened this on a train i really hate twit...\n",
       "47205  we too are dreamers and angry screamers some b...\n",
       "\n",
       "[47206 rows x 1 columns]"
      ]
     },
     "execution_count": 7,
     "metadata": {
      "tags": []
     },
     "output_type": "execute_result"
    }
   ],
   "source": [
    "cleaned_data[['content']]"
   ]
  },
  {
   "cell_type": "code",
   "execution_count": 8,
   "metadata": {
    "colab": {
     "base_uri": "https://localhost:8080/",
     "height": 207
    },
    "executionInfo": {
     "elapsed": 7896,
     "status": "ok",
     "timestamp": 1615901629431,
     "user": {
      "displayName": "Anthony BONFILS",
      "photoUrl": "",
      "userId": "14510571853712567813"
     },
     "user_tz": -60
    },
    "id": "lXi5AnMg7fA-",
    "outputId": "540b02f5-6fc6-4537-df19-68ed33c03432"
   },
   "outputs": [
    {
     "data": {
      "text/html": [
       "<div>\n",
       "<style scoped>\n",
       "    .dataframe tbody tr th:only-of-type {\n",
       "        vertical-align: middle;\n",
       "    }\n",
       "\n",
       "    .dataframe tbody tr th {\n",
       "        vertical-align: top;\n",
       "    }\n",
       "\n",
       "    .dataframe thead th {\n",
       "        text-align: right;\n",
       "    }\n",
       "</style>\n",
       "<table border=\"1\" class=\"dataframe\">\n",
       "  <thead>\n",
       "    <tr style=\"text-align: right;\">\n",
       "      <th></th>\n",
       "      <th>content</th>\n",
       "    </tr>\n",
       "  </thead>\n",
       "  <tbody>\n",
       "    <tr>\n",
       "      <th>0</th>\n",
       "      <td>[do, not, get, angry, or, frustrated, or, desp...</td>\n",
       "    </tr>\n",
       "    <tr>\n",
       "      <th>1</th>\n",
       "      <td>[sickening, i, hurt, for, florida, later, for,...</td>\n",
       "    </tr>\n",
       "    <tr>\n",
       "      <th>2</th>\n",
       "      <td>[this, rainfall, is, a, savage, y, fall, when,...</td>\n",
       "    </tr>\n",
       "    <tr>\n",
       "      <th>3</th>\n",
       "      <td>[angry, guy, screw, his, gf, in, very, rude, m...</td>\n",
       "    </tr>\n",
       "    <tr>\n",
       "      <th>4</th>\n",
       "      <td>[silence, is, better, when, you, re, angry, an...</td>\n",
       "    </tr>\n",
       "  </tbody>\n",
       "</table>\n",
       "</div>"
      ],
      "text/plain": [
       "                                             content\n",
       "0  [do, not, get, angry, or, frustrated, or, desp...\n",
       "1  [sickening, i, hurt, for, florida, later, for,...\n",
       "2  [this, rainfall, is, a, savage, y, fall, when,...\n",
       "3  [angry, guy, screw, his, gf, in, very, rude, m...\n",
       "4  [silence, is, better, when, you, re, angry, an..."
      ]
     },
     "execution_count": 8,
     "metadata": {
      "tags": []
     },
     "output_type": "execute_result"
    }
   ],
   "source": [
    "pre_tweets = preprocess_data(cleaned_data['content'])\n",
    "pre_tweets.head()"
   ]
  },
  {
   "cell_type": "code",
   "execution_count": 9,
   "metadata": {
    "colab": {
     "base_uri": "https://localhost:8080/",
     "height": 207
    },
    "executionInfo": {
     "elapsed": 642,
     "status": "ok",
     "timestamp": 1615901882439,
     "user": {
      "displayName": "Anthony BONFILS",
      "photoUrl": "",
      "userId": "14510571853712567813"
     },
     "user_tz": -60
    },
    "id": "DmNFnrIW8DtY",
    "outputId": "487806dd-9dba-4d76-c299-adc9a409d13f"
   },
   "outputs": [
    {
     "data": {
      "text/html": [
       "<div>\n",
       "<style scoped>\n",
       "    .dataframe tbody tr th:only-of-type {\n",
       "        vertical-align: middle;\n",
       "    }\n",
       "\n",
       "    .dataframe tbody tr th {\n",
       "        vertical-align: top;\n",
       "    }\n",
       "\n",
       "    .dataframe thead th {\n",
       "        text-align: right;\n",
       "    }\n",
       "</style>\n",
       "<table border=\"1\" class=\"dataframe\">\n",
       "  <thead>\n",
       "    <tr style=\"text-align: right;\">\n",
       "      <th></th>\n",
       "      <th>content</th>\n",
       "    </tr>\n",
       "  </thead>\n",
       "  <tbody>\n",
       "    <tr>\n",
       "      <th>0</th>\n",
       "      <td>[get, angry, frustrated, desperate, enraged, d...</td>\n",
       "    </tr>\n",
       "    <tr>\n",
       "      <th>1</th>\n",
       "      <td>[sickening, hurt, florida, later, know, feel, ...</td>\n",
       "    </tr>\n",
       "    <tr>\n",
       "      <th>2</th>\n",
       "      <td>[rainfall, savage, fall, club, n, home, hot, l...</td>\n",
       "    </tr>\n",
       "    <tr>\n",
       "      <th>3</th>\n",
       "      <td>[angry, guy, screw, gf, rude, manner, portsmouth]</td>\n",
       "    </tr>\n",
       "    <tr>\n",
       "      <th>4</th>\n",
       "      <td>[silence, better, angry, frustrated, reacting,...</td>\n",
       "    </tr>\n",
       "  </tbody>\n",
       "</table>\n",
       "</div>"
      ],
      "text/plain": [
       "                                             content\n",
       "0  [get, angry, frustrated, desperate, enraged, d...\n",
       "1  [sickening, hurt, florida, later, know, feel, ...\n",
       "2  [rainfall, savage, fall, club, n, home, hot, l...\n",
       "3  [angry, guy, screw, gf, rude, manner, portsmouth]\n",
       "4  [silence, better, angry, frustrated, reacting,..."
      ]
     },
     "execution_count": 9,
     "metadata": {
      "tags": []
     },
     "output_type": "execute_result"
    }
   ],
   "source": [
    "## code for removing stop words. \n",
    "stop_words = set(stopwords.words('english'))\n",
    "pre_tweets['content'] = pre_tweets['content'].apply(lambda x: [item for item in \\\n",
    "                                    x if item not in stop_words])\n",
    "\n",
    "pre_tweets.head()"
   ]
  },
  {
   "cell_type": "code",
   "execution_count": 10,
   "metadata": {
    "executionInfo": {
     "elapsed": 1039,
     "status": "ok",
     "timestamp": 1615901884772,
     "user": {
      "displayName": "Anthony BONFILS",
      "photoUrl": "",
      "userId": "14510571853712567813"
     },
     "user_tz": -60
    },
    "id": "ZBFZfCRv81tu"
   },
   "outputs": [],
   "source": [
    "# sentence length data for statistics. \n",
    "word_count_list = []\n",
    "for sentence in pre_tweets['content']:\n",
    "    word_count_list.append(len(sentence))\n"
   ]
  },
  {
   "cell_type": "code",
   "execution_count": 11,
   "metadata": {
    "executionInfo": {
     "elapsed": 820,
     "status": "ok",
     "timestamp": 1615902193178,
     "user": {
      "displayName": "Anthony BONFILS",
      "photoUrl": "",
      "userId": "14510571853712567813"
     },
     "user_tz": -60
    },
    "id": "Z0_FDHC1_zQg"
   },
   "outputs": [],
   "source": [
    "# Tokenising the tweet data.\n",
    "word_tokenizer = text.Tokenizer()\n",
    "word_tokenizer.fit_on_texts(pre_tweets['content'])"
   ]
  },
  {
   "cell_type": "code",
   "execution_count": 12,
   "metadata": {
    "executionInfo": {
     "elapsed": 1049,
     "status": "ok",
     "timestamp": 1615902194003,
     "user": {
      "displayName": "Anthony BONFILS",
      "photoUrl": "",
      "userId": "14510571853712567813"
     },
     "user_tz": -60
    },
    "id": "zOs5R0ph_5eM"
   },
   "outputs": [],
   "source": [
    "vocab_length = len(word_tokenizer.word_index) + 1\n",
    "embedded_sentences = word_tokenizer.texts_to_sequences(pre_tweets['content'])"
   ]
  },
  {
   "cell_type": "code",
   "execution_count": 14,
   "metadata": {
    "colab": {
     "base_uri": "https://localhost:8080/"
    },
    "executionInfo": {
     "elapsed": 900,
     "status": "ok",
     "timestamp": 1615903317719,
     "user": {
      "displayName": "Anthony BONFILS",
      "photoUrl": "",
      "userId": "14510571853712567813"
     },
     "user_tz": -60
    },
    "id": "Wy4v7PNsAS_3",
    "outputId": "ddd285da-b72a-410a-9a2c-87547ffb08fd"
   },
   "outputs": [
    {
     "name": "stdout",
     "output_type": "stream",
     "text": [
      "7.0\n",
      "7.578549336948693\n",
      "3.990504137584777\n"
     ]
    }
   ],
   "source": [
    "# stats to decide on the optimal length of the sentence.\n",
    "median_length = statistics.median(word_count_list)\n",
    "print(median_length)\n",
    "mean_length = statistics.mean(word_count_list)\n",
    "print(mean_length)\n",
    "st_dev = statistics.stdev(word_count_list)\n",
    "print(st_dev)"
   ]
  },
  {
   "cell_type": "code",
   "execution_count": 15,
   "metadata": {
    "executionInfo": {
     "elapsed": 902,
     "status": "ok",
     "timestamp": 1615903327733,
     "user": {
      "displayName": "Anthony BONFILS",
      "photoUrl": "",
      "userId": "14510571853712567813"
     },
     "user_tz": -60
    },
    "id": "Dp_dEznw910f"
   },
   "outputs": [],
   "source": [
    "# set the sentence length here based on the above stats. \n",
    "SENTENCE_LENGTH = 15\n",
    "padded_sentences = pad_sequences(embedded_sentences, SENTENCE_LENGTH, padding='post')\n"
   ]
  },
  {
   "cell_type": "code",
   "execution_count": 16,
   "metadata": {
    "executionInfo": {
     "elapsed": 20295,
     "status": "ok",
     "timestamp": 1615903347341,
     "user": {
      "displayName": "Anthony BONFILS",
      "photoUrl": "",
      "userId": "14510571853712567813"
     },
     "user_tz": -60
    },
    "id": "nFmdKNgMAa5J"
   },
   "outputs": [],
   "source": [
    "# loading standard Glove vectors\n",
    "embeddings_dictionary = dict()\n",
    "glove_file = open('glove.twitter.27B.50d.txt', encoding=\"utf8\")\n",
    "\n",
    "for line in glove_file:\n",
    "    records = line.split()\n",
    "    word = records[0]\n",
    "    vector_dimensions = np.asarray(records[1:], dtype='float32')\n",
    "    embeddings_dictionary [word] = vector_dimensions\n",
    "\n",
    "glove_file.close()"
   ]
  },
  {
   "cell_type": "code",
   "execution_count": 17,
   "metadata": {
    "executionInfo": {
     "elapsed": 20071,
     "status": "ok",
     "timestamp": 1615903347343,
     "user": {
      "displayName": "Anthony BONFILS",
      "photoUrl": "",
      "userId": "14510571853712567813"
     },
     "user_tz": -60
    },
    "id": "odbu8JytAg4U"
   },
   "outputs": [],
   "source": [
    "# Embedding the words\n",
    "embedding_matrix = np.zeros((vocab_length, 50))\n",
    "for word, index in word_tokenizer.word_index.items():\n",
    "    embedding_vector = embeddings_dictionary.get(word)\n",
    "    if embedding_vector is not None:\n",
    "        embedding_matrix[index] = embedding_vector"
   ]
  },
  {
   "cell_type": "code",
   "execution_count": 18,
   "metadata": {
    "executionInfo": {
     "elapsed": 19856,
     "status": "ok",
     "timestamp": 1615903347345,
     "user": {
      "displayName": "Anthony BONFILS",
      "photoUrl": "",
      "userId": "14510571853712567813"
     },
     "user_tz": -60
    },
    "id": "4H_7cHwHBC4s"
   },
   "outputs": [],
   "source": [
    "# Test - Train split. \n",
    "X_train, X_test, y_train, y_test = train_test_split(padded_sentences, y_data, test_size = 0.2)"
   ]
  },
  {
   "cell_type": "code",
   "execution_count": 19,
   "metadata": {
    "executionInfo": {
     "elapsed": 19392,
     "status": "ok",
     "timestamp": 1615903347347,
     "user": {
      "displayName": "Anthony BONFILS",
      "photoUrl": "",
      "userId": "14510571853712567813"
     },
     "user_tz": -60
    },
    "id": "IPi5u7u9hCmU"
   },
   "outputs": [],
   "source": [
    "# Attention layer Implementation. \n",
    "\n",
    "class attention(Layer):\n",
    "    \n",
    "    def __init__(self, return_sequences=True):\n",
    "        self.return_sequences = return_sequences\n",
    "        super(attention,self).__init__()\n",
    "        \n",
    "    def build(self, input_shape):\n",
    "        \n",
    "        self.W=self.add_weight(name=\"att_weight\", shape=(input_shape[-1],1),\n",
    "                               initializer=\"normal\")\n",
    "        self.b=self.add_weight(name=\"att_bias\", shape=(input_shape[1],1),\n",
    "                               initializer=\"zeros\")\n",
    "        \n",
    "        super(attention,self).build(input_shape)\n",
    "        \n",
    "    def call(self, x):\n",
    "        \n",
    "        e = K.tanh(K.dot(x,self.W)+self.b)\n",
    "        a = K.softmax(e, axis=1)\n",
    "        output = x*a\n",
    "        \n",
    "        if self.return_sequences:\n",
    "            return output\n",
    "        \n",
    "        return K.sum(output, axis=1)\n"
   ]
  },
  {
   "cell_type": "code",
   "execution_count": 33,
   "metadata": {
    "colab": {
     "base_uri": "https://localhost:8080/"
    },
    "executionInfo": {
     "elapsed": 1933,
     "status": "ok",
     "timestamp": 1615905094494,
     "user": {
      "displayName": "Anthony BONFILS",
      "photoUrl": "",
      "userId": "14510571853712567813"
     },
     "user_tz": -60
    },
    "id": "I-lKL8bKB2yu",
    "outputId": "1fe14f7e-74fe-48ee-f89b-a8999d07e37b"
   },
   "outputs": [
    {
     "name": "stdout",
     "output_type": "stream",
     "text": [
      "Model: \"sequential\"\n",
      "_________________________________________________________________\n",
      "Layer (type)                 Output Shape              Param #   \n",
      "=================================================================\n",
      "embedding (Embedding)        (None, 15, 50)            1509000   \n",
      "_________________________________________________________________\n",
      "dropout (Dropout)            (None, 15, 50)            0         \n",
      "_________________________________________________________________\n",
      "bidirectional (Bidirectional (None, 15, 128)           58880     \n",
      "_________________________________________________________________\n",
      "attention (attention)        (None, 128)               143       \n",
      "_________________________________________________________________\n",
      "dropout_1 (Dropout)          (None, 128)               0         \n",
      "_________________________________________________________________\n",
      "dense (Dense)                (None, 5)                 645       \n",
      "=================================================================\n",
      "Total params: 1,568,668\n",
      "Trainable params: 59,668\n",
      "Non-trainable params: 1,509,000\n",
      "_________________________________________________________________\n"
     ]
    }
   ],
   "source": [
    "from keras.backend import clear_session\n",
    "# Define the model for learning (Attention - Bidirectional LTSM)\n",
    "\n",
    "clear_session()\n",
    "model = Sequential()\n",
    "model.add(layers.Embedding(vocab_length, \n",
    "                           50,\n",
    "                           weights=[embedding_matrix],\n",
    "                           input_length=SENTENCE_LENGTH, \n",
    "                           trainable=False))\n",
    "model.add(layers.Dropout(0.3))\n",
    "model.add(layers.Bidirectional(\n",
    "    layers.LSTM(64, dropout=0.3, \n",
    "                kernel_regularizer=tf.keras.regularizers.l2(1e-5), \n",
    "                return_sequences=True)))\n",
    "model.add(attention(return_sequences=False))\n",
    "model.add(layers.Dropout(0.5))\n",
    "model.add(layers.Dense(5, activation = 'softmax'))\n",
    "model.summary()"
   ]
  },
  {
   "cell_type": "code",
   "execution_count": 34,
   "metadata": {
    "colab": {
     "base_uri": "https://localhost:8080/"
    },
    "executionInfo": {
     "elapsed": 3851143,
     "status": "ok",
     "timestamp": 1615908943954,
     "user": {
      "displayName": "Anthony BONFILS",
      "photoUrl": "",
      "userId": "14510571853712567813"
     },
     "user_tz": -60
    },
    "id": "bFnZXy7wCBUA",
    "outputId": "cac86232-d28c-494b-f7da-5e9a565bb323"
   },
   "outputs": [
    {
     "name": "stdout",
     "output_type": "stream",
     "text": [
      "Epoch 1/250\n",
      "1181/1181 [==============================] - 19s 13ms/step - loss: 1.2227 - accuracy: 0.4699 - val_loss: 1.0264 - val_accuracy: 0.5697\n",
      "Epoch 2/250\n",
      "1181/1181 [==============================] - 15s 13ms/step - loss: 1.0727 - accuracy: 0.5409 - val_loss: 1.0259 - val_accuracy: 0.5676\n",
      "Epoch 3/250\n",
      "1181/1181 [==============================] - 15s 13ms/step - loss: 1.0332 - accuracy: 0.5639 - val_loss: 0.9804 - val_accuracy: 0.5878\n",
      "Epoch 4/250\n",
      "1181/1181 [==============================] - 15s 13ms/step - loss: 1.0305 - accuracy: 0.5626 - val_loss: 0.9671 - val_accuracy: 0.5934\n",
      "Epoch 5/250\n",
      "1181/1181 [==============================] - 15s 13ms/step - loss: 1.0191 - accuracy: 0.5697 - val_loss: 0.9552 - val_accuracy: 0.5984\n",
      "Epoch 6/250\n",
      "1181/1181 [==============================] - 15s 13ms/step - loss: 1.0005 - accuracy: 0.5730 - val_loss: 0.9594 - val_accuracy: 0.5976\n",
      "Epoch 7/250\n",
      "1181/1181 [==============================] - 15s 13ms/step - loss: 1.0001 - accuracy: 0.5763 - val_loss: 0.9504 - val_accuracy: 0.5979\n",
      "Epoch 8/250\n",
      "1181/1181 [==============================] - 15s 13ms/step - loss: 0.9941 - accuracy: 0.5778 - val_loss: 0.9459 - val_accuracy: 0.6023\n",
      "Epoch 9/250\n",
      "1181/1181 [==============================] - 15s 13ms/step - loss: 0.9921 - accuracy: 0.5783 - val_loss: 0.9544 - val_accuracy: 0.6011\n",
      "Epoch 10/250\n",
      "1181/1181 [==============================] - 15s 13ms/step - loss: 0.9904 - accuracy: 0.5810 - val_loss: 0.9478 - val_accuracy: 0.6060\n",
      "Epoch 11/250\n",
      "1181/1181 [==============================] - 15s 13ms/step - loss: 0.9953 - accuracy: 0.5828 - val_loss: 0.9463 - val_accuracy: 0.6055\n",
      "Epoch 12/250\n",
      "1181/1181 [==============================] - 15s 13ms/step - loss: 0.9834 - accuracy: 0.5882 - val_loss: 0.9436 - val_accuracy: 0.6067\n",
      "Epoch 13/250\n",
      "1181/1181 [==============================] - 15s 13ms/step - loss: 0.9839 - accuracy: 0.5885 - val_loss: 0.9457 - val_accuracy: 0.6061\n",
      "Epoch 14/250\n",
      "1181/1181 [==============================] - 15s 13ms/step - loss: 0.9778 - accuracy: 0.5839 - val_loss: 0.9418 - val_accuracy: 0.6095\n",
      "Epoch 15/250\n",
      "1181/1181 [==============================] - 15s 13ms/step - loss: 0.9737 - accuracy: 0.5896 - val_loss: 0.9406 - val_accuracy: 0.6072\n",
      "Epoch 16/250\n",
      "1181/1181 [==============================] - 15s 13ms/step - loss: 0.9801 - accuracy: 0.5828 - val_loss: 0.9383 - val_accuracy: 0.6077\n",
      "Epoch 17/250\n",
      "1181/1181 [==============================] - 15s 13ms/step - loss: 0.9734 - accuracy: 0.5911 - val_loss: 0.9375 - val_accuracy: 0.6099\n",
      "Epoch 18/250\n",
      "1181/1181 [==============================] - 15s 13ms/step - loss: 0.9717 - accuracy: 0.5915 - val_loss: 0.9420 - val_accuracy: 0.6107\n",
      "Epoch 19/250\n",
      "1181/1181 [==============================] - 15s 13ms/step - loss: 0.9745 - accuracy: 0.5895 - val_loss: 0.9412 - val_accuracy: 0.6065\n",
      "Epoch 20/250\n",
      "1181/1181 [==============================] - 15s 13ms/step - loss: 0.9684 - accuracy: 0.5936 - val_loss: 0.9357 - val_accuracy: 0.6099\n",
      "Epoch 21/250\n",
      "1181/1181 [==============================] - 15s 13ms/step - loss: 0.9666 - accuracy: 0.5955 - val_loss: 0.9377 - val_accuracy: 0.6097\n",
      "Epoch 22/250\n",
      "1181/1181 [==============================] - 15s 13ms/step - loss: 0.9789 - accuracy: 0.5851 - val_loss: 0.9366 - val_accuracy: 0.6107\n",
      "Epoch 23/250\n",
      "1181/1181 [==============================] - 15s 13ms/step - loss: 0.9652 - accuracy: 0.5974 - val_loss: 0.9351 - val_accuracy: 0.6114\n",
      "Epoch 24/250\n",
      "1181/1181 [==============================] - 15s 13ms/step - loss: 0.9614 - accuracy: 0.5961 - val_loss: 0.9344 - val_accuracy: 0.6117\n",
      "Epoch 25/250\n",
      "1181/1181 [==============================] - 15s 13ms/step - loss: 0.9655 - accuracy: 0.5919 - val_loss: 0.9386 - val_accuracy: 0.6129\n",
      "Epoch 26/250\n",
      "1181/1181 [==============================] - 15s 13ms/step - loss: 0.9674 - accuracy: 0.5931 - val_loss: 0.9383 - val_accuracy: 0.6119\n",
      "Epoch 27/250\n",
      "1181/1181 [==============================] - 15s 13ms/step - loss: 0.9587 - accuracy: 0.6008 - val_loss: 0.9324 - val_accuracy: 0.6132\n",
      "Epoch 28/250\n",
      "1181/1181 [==============================] - 15s 13ms/step - loss: 0.9632 - accuracy: 0.5999 - val_loss: 0.9320 - val_accuracy: 0.6109\n",
      "Epoch 29/250\n",
      "1181/1181 [==============================] - 15s 13ms/step - loss: 0.9512 - accuracy: 0.6064 - val_loss: 0.9318 - val_accuracy: 0.6148\n",
      "Epoch 30/250\n",
      "1181/1181 [==============================] - 15s 13ms/step - loss: 0.9580 - accuracy: 0.5986 - val_loss: 0.9378 - val_accuracy: 0.6144\n",
      "Epoch 31/250\n",
      "1181/1181 [==============================] - 15s 13ms/step - loss: 0.9592 - accuracy: 0.6007 - val_loss: 0.9396 - val_accuracy: 0.6108\n",
      "Epoch 32/250\n",
      "1181/1181 [==============================] - 15s 13ms/step - loss: 0.9604 - accuracy: 0.6028 - val_loss: 0.9330 - val_accuracy: 0.6128\n",
      "Epoch 33/250\n",
      "1181/1181 [==============================] - 15s 13ms/step - loss: 0.9598 - accuracy: 0.5956 - val_loss: 0.9373 - val_accuracy: 0.6103\n",
      "Epoch 34/250\n",
      "1181/1181 [==============================] - 15s 13ms/step - loss: 0.9592 - accuracy: 0.5986 - val_loss: 0.9345 - val_accuracy: 0.6145\n",
      "Epoch 35/250\n",
      "1181/1181 [==============================] - 15s 13ms/step - loss: 0.9558 - accuracy: 0.5997 - val_loss: 0.9366 - val_accuracy: 0.6131\n",
      "Epoch 36/250\n",
      "1181/1181 [==============================] - 15s 13ms/step - loss: 0.9466 - accuracy: 0.6095 - val_loss: 0.9340 - val_accuracy: 0.6168\n",
      "Epoch 37/250\n",
      "1181/1181 [==============================] - 15s 13ms/step - loss: 0.9470 - accuracy: 0.6046 - val_loss: 0.9322 - val_accuracy: 0.6190\n",
      "Epoch 38/250\n",
      "1181/1181 [==============================] - 15s 13ms/step - loss: 0.9548 - accuracy: 0.6017 - val_loss: 0.9387 - val_accuracy: 0.6165\n",
      "Epoch 39/250\n",
      "1181/1181 [==============================] - 15s 13ms/step - loss: 0.9533 - accuracy: 0.5979 - val_loss: 0.9386 - val_accuracy: 0.6129\n",
      "Epoch 40/250\n",
      "1181/1181 [==============================] - 15s 13ms/step - loss: 0.9472 - accuracy: 0.6038 - val_loss: 0.9367 - val_accuracy: 0.6172\n",
      "Epoch 41/250\n",
      "1181/1181 [==============================] - 15s 13ms/step - loss: 0.9526 - accuracy: 0.6042 - val_loss: 0.9296 - val_accuracy: 0.6194\n",
      "Epoch 42/250\n",
      "1181/1181 [==============================] - 15s 13ms/step - loss: 0.9519 - accuracy: 0.6000 - val_loss: 0.9317 - val_accuracy: 0.6194\n",
      "Epoch 43/250\n",
      "1181/1181 [==============================] - 15s 13ms/step - loss: 0.9511 - accuracy: 0.6021 - val_loss: 0.9344 - val_accuracy: 0.6168\n",
      "Epoch 44/250\n",
      "1181/1181 [==============================] - 15s 13ms/step - loss: 0.9520 - accuracy: 0.6017 - val_loss: 0.9348 - val_accuracy: 0.6179\n",
      "Epoch 45/250\n",
      "1181/1181 [==============================] - 15s 13ms/step - loss: 0.9384 - accuracy: 0.6072 - val_loss: 0.9365 - val_accuracy: 0.6132\n",
      "Epoch 46/250\n",
      "1181/1181 [==============================] - 15s 13ms/step - loss: 0.9468 - accuracy: 0.5998 - val_loss: 0.9331 - val_accuracy: 0.6177\n",
      "Epoch 47/250\n",
      "1181/1181 [==============================] - 15s 13ms/step - loss: 0.9471 - accuracy: 0.6048 - val_loss: 0.9419 - val_accuracy: 0.6142\n",
      "Epoch 48/250\n",
      "1181/1181 [==============================] - 15s 13ms/step - loss: 0.9419 - accuracy: 0.6040 - val_loss: 0.9351 - val_accuracy: 0.6142\n",
      "Epoch 49/250\n",
      "1181/1181 [==============================] - 15s 13ms/step - loss: 0.9418 - accuracy: 0.6106 - val_loss: 0.9371 - val_accuracy: 0.6147\n",
      "Epoch 50/250\n",
      "1181/1181 [==============================] - 15s 13ms/step - loss: 0.9451 - accuracy: 0.6075 - val_loss: 0.9360 - val_accuracy: 0.6175\n",
      "Epoch 51/250\n",
      "1181/1181 [==============================] - 15s 13ms/step - loss: 0.9394 - accuracy: 0.6064 - val_loss: 0.9335 - val_accuracy: 0.6153\n",
      "Epoch 52/250\n",
      "1181/1181 [==============================] - 15s 13ms/step - loss: 0.9469 - accuracy: 0.6034 - val_loss: 0.9307 - val_accuracy: 0.6184\n",
      "Epoch 53/250\n",
      "1181/1181 [==============================] - 15s 13ms/step - loss: 0.9410 - accuracy: 0.6101 - val_loss: 0.9282 - val_accuracy: 0.6193\n",
      "Epoch 54/250\n",
      "1181/1181 [==============================] - 15s 13ms/step - loss: 0.9457 - accuracy: 0.6076 - val_loss: 0.9321 - val_accuracy: 0.6198\n",
      "Epoch 55/250\n",
      "1181/1181 [==============================] - 15s 13ms/step - loss: 0.9429 - accuracy: 0.6059 - val_loss: 0.9340 - val_accuracy: 0.6155\n",
      "Epoch 56/250\n",
      "1181/1181 [==============================] - 15s 13ms/step - loss: 0.9408 - accuracy: 0.6060 - val_loss: 0.9373 - val_accuracy: 0.6182\n",
      "Epoch 57/250\n",
      "1181/1181 [==============================] - 15s 13ms/step - loss: 0.9375 - accuracy: 0.6089 - val_loss: 0.9318 - val_accuracy: 0.6169\n",
      "Epoch 58/250\n",
      "1181/1181 [==============================] - 15s 13ms/step - loss: 0.9484 - accuracy: 0.6017 - val_loss: 0.9340 - val_accuracy: 0.6166\n",
      "Epoch 59/250\n",
      "1181/1181 [==============================] - 15s 13ms/step - loss: 0.9399 - accuracy: 0.6068 - val_loss: 0.9349 - val_accuracy: 0.6170\n",
      "Epoch 60/250\n",
      "1181/1181 [==============================] - 15s 13ms/step - loss: 0.9438 - accuracy: 0.6072 - val_loss: 0.9350 - val_accuracy: 0.6193\n",
      "Epoch 61/250\n",
      "1181/1181 [==============================] - 15s 13ms/step - loss: 0.9437 - accuracy: 0.6034 - val_loss: 0.9335 - val_accuracy: 0.6164\n",
      "Epoch 62/250\n",
      "1181/1181 [==============================] - 15s 13ms/step - loss: 0.9459 - accuracy: 0.6050 - val_loss: 0.9331 - val_accuracy: 0.6183\n",
      "Epoch 63/250\n",
      "1181/1181 [==============================] - 15s 13ms/step - loss: 0.9376 - accuracy: 0.6072 - val_loss: 0.9315 - val_accuracy: 0.6168\n",
      "Epoch 64/250\n",
      "1181/1181 [==============================] - 15s 13ms/step - loss: 0.9358 - accuracy: 0.6058 - val_loss: 0.9347 - val_accuracy: 0.6195\n",
      "Epoch 65/250\n",
      "1181/1181 [==============================] - 15s 13ms/step - loss: 0.9391 - accuracy: 0.6087 - val_loss: 0.9400 - val_accuracy: 0.6150\n",
      "Epoch 66/250\n",
      "1181/1181 [==============================] - 15s 13ms/step - loss: 0.9372 - accuracy: 0.6079 - val_loss: 0.9360 - val_accuracy: 0.6162\n",
      "Epoch 67/250\n",
      "1181/1181 [==============================] - 15s 13ms/step - loss: 0.9326 - accuracy: 0.6110 - val_loss: 0.9317 - val_accuracy: 0.6177\n",
      "Epoch 68/250\n",
      "1181/1181 [==============================] - 15s 13ms/step - loss: 0.9409 - accuracy: 0.6086 - val_loss: 0.9356 - val_accuracy: 0.6200\n",
      "Epoch 69/250\n",
      "1181/1181 [==============================] - 15s 13ms/step - loss: 0.9316 - accuracy: 0.6138 - val_loss: 0.9359 - val_accuracy: 0.6197\n",
      "Epoch 70/250\n",
      "1181/1181 [==============================] - 15s 13ms/step - loss: 0.9391 - accuracy: 0.6068 - val_loss: 0.9399 - val_accuracy: 0.6171\n",
      "Epoch 71/250\n",
      "1181/1181 [==============================] - 15s 13ms/step - loss: 0.9451 - accuracy: 0.6068 - val_loss: 0.9358 - val_accuracy: 0.6144\n",
      "Epoch 72/250\n",
      "1181/1181 [==============================] - 15s 13ms/step - loss: 0.9393 - accuracy: 0.6070 - val_loss: 0.9347 - val_accuracy: 0.6159\n",
      "Epoch 73/250\n",
      "1181/1181 [==============================] - 15s 13ms/step - loss: 0.9322 - accuracy: 0.6095 - val_loss: 0.9358 - val_accuracy: 0.6176\n",
      "Epoch 74/250\n",
      "1181/1181 [==============================] - 15s 13ms/step - loss: 0.9345 - accuracy: 0.6114 - val_loss: 0.9337 - val_accuracy: 0.6191\n",
      "Epoch 75/250\n",
      "1181/1181 [==============================] - 15s 13ms/step - loss: 0.9380 - accuracy: 0.6105 - val_loss: 0.9339 - val_accuracy: 0.6189\n",
      "Epoch 76/250\n",
      "1181/1181 [==============================] - 15s 13ms/step - loss: 0.9313 - accuracy: 0.6110 - val_loss: 0.9373 - val_accuracy: 0.6182\n",
      "Epoch 77/250\n",
      "1181/1181 [==============================] - 15s 13ms/step - loss: 0.9331 - accuracy: 0.6126 - val_loss: 0.9340 - val_accuracy: 0.6175\n",
      "Epoch 78/250\n",
      "1181/1181 [==============================] - 15s 13ms/step - loss: 0.9387 - accuracy: 0.6090 - val_loss: 0.9366 - val_accuracy: 0.6176\n",
      "Epoch 79/250\n",
      "1181/1181 [==============================] - 15s 13ms/step - loss: 0.9350 - accuracy: 0.6122 - val_loss: 0.9347 - val_accuracy: 0.6166\n",
      "Epoch 80/250\n",
      "1181/1181 [==============================] - 15s 13ms/step - loss: 0.9366 - accuracy: 0.6088 - val_loss: 0.9362 - val_accuracy: 0.6165\n",
      "Epoch 81/250\n",
      "1181/1181 [==============================] - 15s 13ms/step - loss: 0.9355 - accuracy: 0.6102 - val_loss: 0.9347 - val_accuracy: 0.6161\n",
      "Epoch 82/250\n",
      "1181/1181 [==============================] - 15s 13ms/step - loss: 0.9329 - accuracy: 0.6115 - val_loss: 0.9389 - val_accuracy: 0.6167\n",
      "Epoch 83/250\n",
      "1181/1181 [==============================] - 15s 13ms/step - loss: 0.9347 - accuracy: 0.6111 - val_loss: 0.9361 - val_accuracy: 0.6179\n",
      "Epoch 84/250\n",
      "1181/1181 [==============================] - 15s 13ms/step - loss: 0.9312 - accuracy: 0.6126 - val_loss: 0.9391 - val_accuracy: 0.6161\n",
      "Epoch 85/250\n",
      "1181/1181 [==============================] - 15s 13ms/step - loss: 0.9245 - accuracy: 0.6142 - val_loss: 0.9369 - val_accuracy: 0.6219\n",
      "Epoch 86/250\n",
      "1181/1181 [==============================] - 15s 13ms/step - loss: 0.9300 - accuracy: 0.6109 - val_loss: 0.9365 - val_accuracy: 0.6200\n",
      "Epoch 87/250\n",
      "1181/1181 [==============================] - 15s 13ms/step - loss: 0.9315 - accuracy: 0.6138 - val_loss: 0.9381 - val_accuracy: 0.6176\n",
      "Epoch 88/250\n",
      "1181/1181 [==============================] - 15s 13ms/step - loss: 0.9241 - accuracy: 0.6128 - val_loss: 0.9363 - val_accuracy: 0.6182\n",
      "Epoch 89/250\n",
      "1181/1181 [==============================] - 15s 13ms/step - loss: 0.9333 - accuracy: 0.6104 - val_loss: 0.9341 - val_accuracy: 0.6154\n",
      "Epoch 90/250\n",
      "1181/1181 [==============================] - 15s 13ms/step - loss: 0.9351 - accuracy: 0.6094 - val_loss: 0.9396 - val_accuracy: 0.6176\n",
      "Epoch 91/250\n",
      "1181/1181 [==============================] - 15s 13ms/step - loss: 0.9294 - accuracy: 0.6137 - val_loss: 0.9351 - val_accuracy: 0.6139\n",
      "Epoch 92/250\n",
      "1181/1181 [==============================] - 15s 13ms/step - loss: 0.9307 - accuracy: 0.6127 - val_loss: 0.9365 - val_accuracy: 0.6162\n",
      "Epoch 93/250\n",
      "1181/1181 [==============================] - 15s 13ms/step - loss: 0.9278 - accuracy: 0.6120 - val_loss: 0.9352 - val_accuracy: 0.6154\n",
      "Epoch 94/250\n",
      "1181/1181 [==============================] - 15s 13ms/step - loss: 0.9349 - accuracy: 0.6106 - val_loss: 0.9371 - val_accuracy: 0.6160\n",
      "Epoch 95/250\n",
      "1181/1181 [==============================] - 15s 13ms/step - loss: 0.9274 - accuracy: 0.6176 - val_loss: 0.9364 - val_accuracy: 0.6172\n",
      "Epoch 96/250\n",
      "1181/1181 [==============================] - 15s 13ms/step - loss: 0.9261 - accuracy: 0.6154 - val_loss: 0.9403 - val_accuracy: 0.6169\n",
      "Epoch 97/250\n",
      "1181/1181 [==============================] - 15s 13ms/step - loss: 0.9298 - accuracy: 0.6134 - val_loss: 0.9415 - val_accuracy: 0.6167\n",
      "Epoch 98/250\n",
      "1181/1181 [==============================] - 15s 13ms/step - loss: 0.9290 - accuracy: 0.6116 - val_loss: 0.9345 - val_accuracy: 0.6176\n",
      "Epoch 99/250\n",
      "1181/1181 [==============================] - 15s 13ms/step - loss: 0.9339 - accuracy: 0.6110 - val_loss: 0.9363 - val_accuracy: 0.6196\n",
      "Epoch 100/250\n",
      "1181/1181 [==============================] - 15s 13ms/step - loss: 0.9261 - accuracy: 0.6164 - val_loss: 0.9371 - val_accuracy: 0.6159\n",
      "Epoch 101/250\n",
      "1181/1181 [==============================] - 15s 13ms/step - loss: 0.9321 - accuracy: 0.6113 - val_loss: 0.9379 - val_accuracy: 0.6183\n",
      "Epoch 102/250\n",
      "1181/1181 [==============================] - 15s 13ms/step - loss: 0.9332 - accuracy: 0.6154 - val_loss: 0.9401 - val_accuracy: 0.6195\n",
      "Epoch 103/250\n",
      "1181/1181 [==============================] - 15s 13ms/step - loss: 0.9370 - accuracy: 0.6101 - val_loss: 0.9342 - val_accuracy: 0.6194\n",
      "Epoch 104/250\n",
      "1181/1181 [==============================] - 15s 13ms/step - loss: 0.9230 - accuracy: 0.6168 - val_loss: 0.9329 - val_accuracy: 0.6190\n",
      "Epoch 105/250\n",
      "1181/1181 [==============================] - 15s 13ms/step - loss: 0.9350 - accuracy: 0.6072 - val_loss: 0.9418 - val_accuracy: 0.6180\n",
      "Epoch 106/250\n",
      "1181/1181 [==============================] - 15s 13ms/step - loss: 0.9270 - accuracy: 0.6145 - val_loss: 0.9316 - val_accuracy: 0.6154\n",
      "Epoch 107/250\n",
      "1181/1181 [==============================] - 15s 13ms/step - loss: 0.9232 - accuracy: 0.6164 - val_loss: 0.9388 - val_accuracy: 0.6196\n",
      "Epoch 108/250\n",
      "1181/1181 [==============================] - 15s 13ms/step - loss: 0.9313 - accuracy: 0.6116 - val_loss: 0.9349 - val_accuracy: 0.6186\n",
      "Epoch 109/250\n",
      "1181/1181 [==============================] - 15s 13ms/step - loss: 0.9234 - accuracy: 0.6153 - val_loss: 0.9358 - val_accuracy: 0.6191\n",
      "Epoch 110/250\n",
      "1181/1181 [==============================] - 15s 13ms/step - loss: 0.9312 - accuracy: 0.6095 - val_loss: 0.9379 - val_accuracy: 0.6134\n",
      "Epoch 111/250\n",
      "1181/1181 [==============================] - 15s 13ms/step - loss: 0.9302 - accuracy: 0.6150 - val_loss: 0.9357 - val_accuracy: 0.6180\n",
      "Epoch 112/250\n",
      "1181/1181 [==============================] - 15s 13ms/step - loss: 0.9242 - accuracy: 0.6105 - val_loss: 0.9364 - val_accuracy: 0.6166\n",
      "Epoch 113/250\n",
      "1181/1181 [==============================] - 15s 13ms/step - loss: 0.9203 - accuracy: 0.6175 - val_loss: 0.9382 - val_accuracy: 0.6149\n",
      "Epoch 114/250\n",
      "1181/1181 [==============================] - 15s 13ms/step - loss: 0.9237 - accuracy: 0.6164 - val_loss: 0.9363 - val_accuracy: 0.6187\n",
      "Epoch 115/250\n",
      "1181/1181 [==============================] - 15s 13ms/step - loss: 0.9291 - accuracy: 0.6133 - val_loss: 0.9343 - val_accuracy: 0.6170\n",
      "Epoch 116/250\n",
      "1181/1181 [==============================] - 15s 13ms/step - loss: 0.9248 - accuracy: 0.6184 - val_loss: 0.9359 - val_accuracy: 0.6188\n",
      "Epoch 117/250\n",
      "1181/1181 [==============================] - 15s 13ms/step - loss: 0.9189 - accuracy: 0.6203 - val_loss: 0.9370 - val_accuracy: 0.6180\n",
      "Epoch 118/250\n",
      "1181/1181 [==============================] - 15s 13ms/step - loss: 0.9261 - accuracy: 0.6155 - val_loss: 0.9392 - val_accuracy: 0.6180\n",
      "Epoch 119/250\n",
      "1181/1181 [==============================] - 15s 13ms/step - loss: 0.9180 - accuracy: 0.6162 - val_loss: 0.9384 - val_accuracy: 0.6212\n",
      "Epoch 120/250\n",
      "1181/1181 [==============================] - 15s 13ms/step - loss: 0.9247 - accuracy: 0.6174 - val_loss: 0.9360 - val_accuracy: 0.6206\n",
      "Epoch 121/250\n",
      "1181/1181 [==============================] - 15s 13ms/step - loss: 0.9285 - accuracy: 0.6137 - val_loss: 0.9414 - val_accuracy: 0.6132\n",
      "Epoch 122/250\n",
      "1181/1181 [==============================] - 15s 13ms/step - loss: 0.9243 - accuracy: 0.6141 - val_loss: 0.9444 - val_accuracy: 0.6130\n",
      "Epoch 123/250\n",
      "1181/1181 [==============================] - 15s 13ms/step - loss: 0.9219 - accuracy: 0.6165 - val_loss: 0.9401 - val_accuracy: 0.6177\n",
      "Epoch 124/250\n",
      "1181/1181 [==============================] - 15s 13ms/step - loss: 0.9227 - accuracy: 0.6123 - val_loss: 0.9446 - val_accuracy: 0.6140\n",
      "Epoch 125/250\n",
      "1181/1181 [==============================] - 15s 13ms/step - loss: 0.9279 - accuracy: 0.6130 - val_loss: 0.9446 - val_accuracy: 0.6197\n",
      "Epoch 126/250\n",
      "1181/1181 [==============================] - 15s 13ms/step - loss: 0.9251 - accuracy: 0.6190 - val_loss: 0.9392 - val_accuracy: 0.6181\n",
      "Epoch 127/250\n",
      "1181/1181 [==============================] - 15s 13ms/step - loss: 0.9180 - accuracy: 0.6176 - val_loss: 0.9420 - val_accuracy: 0.6168\n",
      "Epoch 128/250\n",
      "1181/1181 [==============================] - 15s 13ms/step - loss: 0.9194 - accuracy: 0.6171 - val_loss: 0.9389 - val_accuracy: 0.6141\n",
      "Epoch 129/250\n",
      "1181/1181 [==============================] - 16s 13ms/step - loss: 0.9184 - accuracy: 0.6211 - val_loss: 0.9403 - val_accuracy: 0.6185\n",
      "Epoch 130/250\n",
      "1181/1181 [==============================] - 15s 13ms/step - loss: 0.9236 - accuracy: 0.6136 - val_loss: 0.9395 - val_accuracy: 0.6168\n",
      "Epoch 131/250\n",
      "1181/1181 [==============================] - 15s 13ms/step - loss: 0.9222 - accuracy: 0.6142 - val_loss: 0.9402 - val_accuracy: 0.6216\n",
      "Epoch 132/250\n",
      "1181/1181 [==============================] - 16s 13ms/step - loss: 0.9231 - accuracy: 0.6133 - val_loss: 0.9406 - val_accuracy: 0.6153\n",
      "Epoch 133/250\n",
      "1181/1181 [==============================] - 15s 13ms/step - loss: 0.9208 - accuracy: 0.6169 - val_loss: 0.9435 - val_accuracy: 0.6143\n",
      "Epoch 134/250\n",
      "1181/1181 [==============================] - 16s 13ms/step - loss: 0.9130 - accuracy: 0.6191 - val_loss: 0.9428 - val_accuracy: 0.6169\n",
      "Epoch 135/250\n",
      "1181/1181 [==============================] - 15s 13ms/step - loss: 0.9183 - accuracy: 0.6161 - val_loss: 0.9441 - val_accuracy: 0.6146\n",
      "Epoch 136/250\n",
      "1181/1181 [==============================] - 15s 13ms/step - loss: 0.9223 - accuracy: 0.6171 - val_loss: 0.9394 - val_accuracy: 0.6136\n",
      "Epoch 137/250\n",
      "1181/1181 [==============================] - 16s 13ms/step - loss: 0.9224 - accuracy: 0.6136 - val_loss: 0.9367 - val_accuracy: 0.6178\n",
      "Epoch 138/250\n",
      "1181/1181 [==============================] - 15s 13ms/step - loss: 0.9129 - accuracy: 0.6183 - val_loss: 0.9389 - val_accuracy: 0.6165\n",
      "Epoch 139/250\n",
      "1181/1181 [==============================] - 16s 13ms/step - loss: 0.9163 - accuracy: 0.6198 - val_loss: 0.9409 - val_accuracy: 0.6190\n",
      "Epoch 140/250\n",
      "1181/1181 [==============================] - 15s 13ms/step - loss: 0.9214 - accuracy: 0.6175 - val_loss: 0.9406 - val_accuracy: 0.6193\n",
      "Epoch 141/250\n",
      "1181/1181 [==============================] - 16s 13ms/step - loss: 0.9213 - accuracy: 0.6117 - val_loss: 0.9402 - val_accuracy: 0.6164\n",
      "Epoch 142/250\n",
      "1181/1181 [==============================] - 16s 13ms/step - loss: 0.9181 - accuracy: 0.6183 - val_loss: 0.9403 - val_accuracy: 0.6117\n",
      "Epoch 143/250\n",
      "1181/1181 [==============================] - 16s 13ms/step - loss: 0.9171 - accuracy: 0.6217 - val_loss: 0.9407 - val_accuracy: 0.6187\n",
      "Epoch 144/250\n",
      "1181/1181 [==============================] - 15s 13ms/step - loss: 0.9199 - accuracy: 0.6165 - val_loss: 0.9434 - val_accuracy: 0.6159\n",
      "Epoch 145/250\n",
      "1181/1181 [==============================] - 16s 13ms/step - loss: 0.9202 - accuracy: 0.6165 - val_loss: 0.9476 - val_accuracy: 0.6160\n",
      "Epoch 146/250\n",
      "1181/1181 [==============================] - 16s 13ms/step - loss: 0.9285 - accuracy: 0.6179 - val_loss: 0.9431 - val_accuracy: 0.6172\n",
      "Epoch 147/250\n",
      "1181/1181 [==============================] - 15s 13ms/step - loss: 0.9251 - accuracy: 0.6129 - val_loss: 0.9431 - val_accuracy: 0.6126\n",
      "Epoch 148/250\n",
      "1181/1181 [==============================] - 15s 13ms/step - loss: 0.9180 - accuracy: 0.6188 - val_loss: 0.9391 - val_accuracy: 0.6172\n",
      "Epoch 149/250\n",
      "1181/1181 [==============================] - 15s 13ms/step - loss: 0.9132 - accuracy: 0.6185 - val_loss: 0.9474 - val_accuracy: 0.6182\n",
      "Epoch 150/250\n",
      "1181/1181 [==============================] - 15s 13ms/step - loss: 0.9167 - accuracy: 0.6214 - val_loss: 0.9436 - val_accuracy: 0.6182\n",
      "Epoch 151/250\n",
      "1181/1181 [==============================] - 15s 13ms/step - loss: 0.9175 - accuracy: 0.6178 - val_loss: 0.9445 - val_accuracy: 0.6186\n",
      "Epoch 152/250\n",
      "1181/1181 [==============================] - 16s 13ms/step - loss: 0.9142 - accuracy: 0.6193 - val_loss: 0.9431 - val_accuracy: 0.6215\n",
      "Epoch 153/250\n",
      "1181/1181 [==============================] - 16s 13ms/step - loss: 0.9175 - accuracy: 0.6178 - val_loss: 0.9459 - val_accuracy: 0.6204\n",
      "Epoch 154/250\n",
      "1181/1181 [==============================] - 15s 13ms/step - loss: 0.9196 - accuracy: 0.6159 - val_loss: 0.9513 - val_accuracy: 0.6180\n",
      "Epoch 155/250\n",
      "1181/1181 [==============================] - 15s 13ms/step - loss: 0.9150 - accuracy: 0.6200 - val_loss: 0.9429 - val_accuracy: 0.6218\n",
      "Epoch 156/250\n",
      "1181/1181 [==============================] - 15s 13ms/step - loss: 0.9147 - accuracy: 0.6207 - val_loss: 0.9411 - val_accuracy: 0.6176\n",
      "Epoch 157/250\n",
      "1181/1181 [==============================] - 16s 13ms/step - loss: 0.9077 - accuracy: 0.6234 - val_loss: 0.9463 - val_accuracy: 0.6125\n",
      "Epoch 158/250\n",
      "1181/1181 [==============================] - 16s 13ms/step - loss: 0.9245 - accuracy: 0.6159 - val_loss: 0.9464 - val_accuracy: 0.6176\n",
      "Epoch 159/250\n",
      "1181/1181 [==============================] - 15s 13ms/step - loss: 0.9079 - accuracy: 0.6225 - val_loss: 0.9473 - val_accuracy: 0.6141\n",
      "Epoch 160/250\n",
      "1181/1181 [==============================] - 16s 13ms/step - loss: 0.9226 - accuracy: 0.6178 - val_loss: 0.9444 - val_accuracy: 0.6202\n",
      "Epoch 161/250\n",
      "1181/1181 [==============================] - 16s 13ms/step - loss: 0.9154 - accuracy: 0.6191 - val_loss: 0.9464 - val_accuracy: 0.6208\n",
      "Epoch 162/250\n",
      "1181/1181 [==============================] - 16s 13ms/step - loss: 0.9176 - accuracy: 0.6219 - val_loss: 0.9403 - val_accuracy: 0.6173\n",
      "Epoch 163/250\n",
      "1181/1181 [==============================] - 15s 13ms/step - loss: 0.9186 - accuracy: 0.6175 - val_loss: 0.9433 - val_accuracy: 0.6175\n",
      "Epoch 164/250\n",
      "1181/1181 [==============================] - 16s 13ms/step - loss: 0.9154 - accuracy: 0.6220 - val_loss: 0.9408 - val_accuracy: 0.6159\n",
      "Epoch 165/250\n",
      "1181/1181 [==============================] - 16s 13ms/step - loss: 0.9140 - accuracy: 0.6190 - val_loss: 0.9423 - val_accuracy: 0.6197\n",
      "Epoch 166/250\n",
      "1181/1181 [==============================] - 15s 13ms/step - loss: 0.9154 - accuracy: 0.6196 - val_loss: 0.9404 - val_accuracy: 0.6176\n",
      "Epoch 167/250\n",
      "1181/1181 [==============================] - 16s 13ms/step - loss: 0.9175 - accuracy: 0.6195 - val_loss: 0.9435 - val_accuracy: 0.6171\n",
      "Epoch 168/250\n",
      "1181/1181 [==============================] - 16s 13ms/step - loss: 0.9099 - accuracy: 0.6188 - val_loss: 0.9417 - val_accuracy: 0.6153\n",
      "Epoch 169/250\n",
      "1181/1181 [==============================] - 16s 13ms/step - loss: 0.9138 - accuracy: 0.6151 - val_loss: 0.9500 - val_accuracy: 0.6170\n",
      "Epoch 170/250\n",
      "1181/1181 [==============================] - 15s 13ms/step - loss: 0.9180 - accuracy: 0.6168 - val_loss: 0.9541 - val_accuracy: 0.6159\n",
      "Epoch 171/250\n",
      "1181/1181 [==============================] - 16s 13ms/step - loss: 0.9206 - accuracy: 0.6184 - val_loss: 0.9417 - val_accuracy: 0.6167\n",
      "Epoch 172/250\n",
      "1181/1181 [==============================] - 16s 13ms/step - loss: 0.9087 - accuracy: 0.6245 - val_loss: 0.9425 - val_accuracy: 0.6152\n",
      "Epoch 173/250\n",
      "1181/1181 [==============================] - 16s 13ms/step - loss: 0.9144 - accuracy: 0.6203 - val_loss: 0.9445 - val_accuracy: 0.6122\n",
      "Epoch 174/250\n",
      "1181/1181 [==============================] - 16s 13ms/step - loss: 0.9146 - accuracy: 0.6175 - val_loss: 0.9448 - val_accuracy: 0.6149\n",
      "Epoch 175/250\n",
      "1181/1181 [==============================] - 16s 13ms/step - loss: 0.9212 - accuracy: 0.6178 - val_loss: 0.9435 - val_accuracy: 0.6143\n",
      "Epoch 176/250\n",
      "1181/1181 [==============================] - 16s 13ms/step - loss: 0.9150 - accuracy: 0.6210 - val_loss: 0.9447 - val_accuracy: 0.6148\n",
      "Epoch 177/250\n",
      "1181/1181 [==============================] - 16s 13ms/step - loss: 0.9211 - accuracy: 0.6163 - val_loss: 0.9449 - val_accuracy: 0.6155\n",
      "Epoch 178/250\n",
      "1181/1181 [==============================] - 16s 13ms/step - loss: 0.9144 - accuracy: 0.6187 - val_loss: 0.9481 - val_accuracy: 0.6163\n",
      "Epoch 179/250\n",
      "1181/1181 [==============================] - 16s 13ms/step - loss: 0.9103 - accuracy: 0.6185 - val_loss: 0.9446 - val_accuracy: 0.6178\n",
      "Epoch 180/250\n",
      "1181/1181 [==============================] - 16s 13ms/step - loss: 0.9131 - accuracy: 0.6185 - val_loss: 0.9450 - val_accuracy: 0.6181\n",
      "Epoch 181/250\n",
      "1181/1181 [==============================] - 16s 13ms/step - loss: 0.9050 - accuracy: 0.6196 - val_loss: 0.9535 - val_accuracy: 0.6163\n",
      "Epoch 182/250\n",
      "1181/1181 [==============================] - 15s 13ms/step - loss: 0.9141 - accuracy: 0.6184 - val_loss: 0.9473 - val_accuracy: 0.6116\n",
      "Epoch 183/250\n",
      "1181/1181 [==============================] - 16s 13ms/step - loss: 0.9149 - accuracy: 0.6190 - val_loss: 0.9490 - val_accuracy: 0.6189\n",
      "Epoch 184/250\n",
      "1181/1181 [==============================] - 16s 13ms/step - loss: 0.9176 - accuracy: 0.6170 - val_loss: 0.9430 - val_accuracy: 0.6166\n",
      "Epoch 185/250\n",
      "1181/1181 [==============================] - 16s 13ms/step - loss: 0.9100 - accuracy: 0.6206 - val_loss: 0.9447 - val_accuracy: 0.6172\n",
      "Epoch 186/250\n",
      "1181/1181 [==============================] - 16s 13ms/step - loss: 0.9108 - accuracy: 0.6228 - val_loss: 0.9446 - val_accuracy: 0.6151\n",
      "Epoch 187/250\n",
      "1181/1181 [==============================] - 16s 13ms/step - loss: 0.9208 - accuracy: 0.6153 - val_loss: 0.9498 - val_accuracy: 0.6145\n",
      "Epoch 188/250\n",
      "1181/1181 [==============================] - 16s 13ms/step - loss: 0.9131 - accuracy: 0.6204 - val_loss: 0.9492 - val_accuracy: 0.6184\n",
      "Epoch 189/250\n",
      "1181/1181 [==============================] - 16s 13ms/step - loss: 0.9153 - accuracy: 0.6217 - val_loss: 0.9424 - val_accuracy: 0.6195\n",
      "Epoch 190/250\n",
      "1181/1181 [==============================] - 16s 13ms/step - loss: 0.9134 - accuracy: 0.6220 - val_loss: 0.9438 - val_accuracy: 0.6182\n",
      "Epoch 191/250\n",
      "1181/1181 [==============================] - 16s 13ms/step - loss: 0.9086 - accuracy: 0.6255 - val_loss: 0.9517 - val_accuracy: 0.6143\n",
      "Epoch 192/250\n",
      "1181/1181 [==============================] - 16s 13ms/step - loss: 0.9093 - accuracy: 0.6236 - val_loss: 0.9456 - val_accuracy: 0.6184\n",
      "Epoch 193/250\n",
      "1181/1181 [==============================] - 16s 13ms/step - loss: 0.9082 - accuracy: 0.6256 - val_loss: 0.9533 - val_accuracy: 0.6166\n",
      "Epoch 194/250\n",
      "1181/1181 [==============================] - 16s 13ms/step - loss: 0.9114 - accuracy: 0.6239 - val_loss: 0.9470 - val_accuracy: 0.6172\n",
      "Epoch 195/250\n",
      "1181/1181 [==============================] - 16s 13ms/step - loss: 0.9068 - accuracy: 0.6232 - val_loss: 0.9518 - val_accuracy: 0.6190\n",
      "Epoch 196/250\n",
      "1181/1181 [==============================] - 16s 13ms/step - loss: 0.9113 - accuracy: 0.6241 - val_loss: 0.9509 - val_accuracy: 0.6124\n",
      "Epoch 197/250\n",
      "1181/1181 [==============================] - 16s 13ms/step - loss: 0.9078 - accuracy: 0.6216 - val_loss: 0.9506 - val_accuracy: 0.6166\n",
      "Epoch 198/250\n",
      "1181/1181 [==============================] - 16s 13ms/step - loss: 0.9145 - accuracy: 0.6196 - val_loss: 0.9428 - val_accuracy: 0.6173\n",
      "Epoch 199/250\n",
      "1181/1181 [==============================] - 16s 13ms/step - loss: 0.9112 - accuracy: 0.6217 - val_loss: 0.9500 - val_accuracy: 0.6135\n",
      "Epoch 200/250\n",
      "1181/1181 [==============================] - 16s 13ms/step - loss: 0.9054 - accuracy: 0.6231 - val_loss: 0.9438 - val_accuracy: 0.6139\n",
      "Epoch 201/250\n",
      "1181/1181 [==============================] - 16s 13ms/step - loss: 0.9144 - accuracy: 0.6214 - val_loss: 0.9430 - val_accuracy: 0.6148\n",
      "Epoch 202/250\n",
      "1181/1181 [==============================] - 16s 13ms/step - loss: 0.9025 - accuracy: 0.6238 - val_loss: 0.9477 - val_accuracy: 0.6137\n",
      "Epoch 203/250\n",
      "1181/1181 [==============================] - 16s 13ms/step - loss: 0.9119 - accuracy: 0.6215 - val_loss: 0.9480 - val_accuracy: 0.6172\n",
      "Epoch 204/250\n",
      "1181/1181 [==============================] - 16s 13ms/step - loss: 0.9083 - accuracy: 0.6281 - val_loss: 0.9465 - val_accuracy: 0.6167\n",
      "Epoch 205/250\n",
      "1181/1181 [==============================] - 16s 13ms/step - loss: 0.9037 - accuracy: 0.6233 - val_loss: 0.9466 - val_accuracy: 0.6133\n",
      "Epoch 206/250\n",
      "1181/1181 [==============================] - 16s 13ms/step - loss: 0.9071 - accuracy: 0.6221 - val_loss: 0.9538 - val_accuracy: 0.6158\n",
      "Epoch 207/250\n",
      "1181/1181 [==============================] - 16s 13ms/step - loss: 0.9095 - accuracy: 0.6218 - val_loss: 0.9523 - val_accuracy: 0.6155\n",
      "Epoch 208/250\n",
      "1181/1181 [==============================] - 16s 13ms/step - loss: 0.9161 - accuracy: 0.6168 - val_loss: 0.9500 - val_accuracy: 0.6199\n",
      "Epoch 209/250\n",
      "1181/1181 [==============================] - 16s 13ms/step - loss: 0.9078 - accuracy: 0.6254 - val_loss: 0.9464 - val_accuracy: 0.6186\n",
      "Epoch 210/250\n",
      "1181/1181 [==============================] - 16s 13ms/step - loss: 0.9216 - accuracy: 0.6139 - val_loss: 0.9453 - val_accuracy: 0.6169\n",
      "Epoch 211/250\n",
      "1181/1181 [==============================] - 16s 13ms/step - loss: 0.9091 - accuracy: 0.6214 - val_loss: 0.9582 - val_accuracy: 0.6135\n",
      "Epoch 212/250\n",
      "1181/1181 [==============================] - 16s 13ms/step - loss: 0.9079 - accuracy: 0.6224 - val_loss: 0.9540 - val_accuracy: 0.6155\n",
      "Epoch 213/250\n",
      "1181/1181 [==============================] - 16s 13ms/step - loss: 0.9062 - accuracy: 0.6233 - val_loss: 0.9479 - val_accuracy: 0.6148\n",
      "Epoch 214/250\n",
      "1181/1181 [==============================] - 16s 13ms/step - loss: 0.9108 - accuracy: 0.6216 - val_loss: 0.9462 - val_accuracy: 0.6148\n",
      "Epoch 215/250\n",
      "1181/1181 [==============================] - 16s 13ms/step - loss: 0.9095 - accuracy: 0.6231 - val_loss: 0.9631 - val_accuracy: 0.6125\n",
      "Epoch 216/250\n",
      "1181/1181 [==============================] - 16s 13ms/step - loss: 0.9105 - accuracy: 0.6217 - val_loss: 0.9531 - val_accuracy: 0.6135\n",
      "Epoch 217/250\n",
      "1181/1181 [==============================] - 16s 13ms/step - loss: 0.9119 - accuracy: 0.6244 - val_loss: 0.9503 - val_accuracy: 0.6183\n",
      "Epoch 218/250\n",
      "1181/1181 [==============================] - 16s 13ms/step - loss: 0.9108 - accuracy: 0.6204 - val_loss: 0.9532 - val_accuracy: 0.6117\n",
      "Epoch 219/250\n",
      "1181/1181 [==============================] - 16s 13ms/step - loss: 0.9059 - accuracy: 0.6224 - val_loss: 0.9518 - val_accuracy: 0.6093\n",
      "Epoch 220/250\n",
      "1181/1181 [==============================] - 16s 13ms/step - loss: 0.9052 - accuracy: 0.6263 - val_loss: 0.9531 - val_accuracy: 0.6142\n",
      "Epoch 221/250\n",
      "1181/1181 [==============================] - 16s 13ms/step - loss: 0.9036 - accuracy: 0.6233 - val_loss: 0.9473 - val_accuracy: 0.6190\n",
      "Epoch 222/250\n",
      "1181/1181 [==============================] - 16s 13ms/step - loss: 0.9029 - accuracy: 0.6270 - val_loss: 0.9499 - val_accuracy: 0.6134\n",
      "Epoch 223/250\n",
      "1181/1181 [==============================] - 16s 13ms/step - loss: 0.9066 - accuracy: 0.6241 - val_loss: 0.9436 - val_accuracy: 0.6162\n",
      "Epoch 224/250\n",
      "1181/1181 [==============================] - 16s 13ms/step - loss: 0.9026 - accuracy: 0.6250 - val_loss: 0.9490 - val_accuracy: 0.6140\n",
      "Epoch 225/250\n",
      "1181/1181 [==============================] - 16s 13ms/step - loss: 0.9028 - accuracy: 0.6262 - val_loss: 0.9514 - val_accuracy: 0.6094\n",
      "Epoch 226/250\n",
      "1181/1181 [==============================] - 16s 13ms/step - loss: 0.9085 - accuracy: 0.6195 - val_loss: 0.9455 - val_accuracy: 0.6143\n",
      "Epoch 227/250\n",
      "1181/1181 [==============================] - 16s 13ms/step - loss: 0.9047 - accuracy: 0.6297 - val_loss: 0.9454 - val_accuracy: 0.6127\n",
      "Epoch 228/250\n",
      "1181/1181 [==============================] - 16s 13ms/step - loss: 0.9107 - accuracy: 0.6183 - val_loss: 0.9517 - val_accuracy: 0.6161\n",
      "Epoch 229/250\n",
      "1181/1181 [==============================] - 16s 13ms/step - loss: 0.9090 - accuracy: 0.6221 - val_loss: 0.9494 - val_accuracy: 0.6119\n",
      "Epoch 230/250\n",
      "1181/1181 [==============================] - 16s 13ms/step - loss: 0.9053 - accuracy: 0.6258 - val_loss: 0.9519 - val_accuracy: 0.6183\n",
      "Epoch 231/250\n",
      "1181/1181 [==============================] - 16s 13ms/step - loss: 0.9117 - accuracy: 0.6212 - val_loss: 0.9487 - val_accuracy: 0.6160\n",
      "Epoch 232/250\n",
      "1181/1181 [==============================] - 16s 13ms/step - loss: 0.9134 - accuracy: 0.6221 - val_loss: 0.9524 - val_accuracy: 0.6136\n",
      "Epoch 233/250\n",
      "1181/1181 [==============================] - 16s 13ms/step - loss: 0.9037 - accuracy: 0.6233 - val_loss: 0.9529 - val_accuracy: 0.6151\n",
      "Epoch 234/250\n",
      "1181/1181 [==============================] - 16s 13ms/step - loss: 0.9106 - accuracy: 0.6251 - val_loss: 0.9523 - val_accuracy: 0.6116\n",
      "Epoch 235/250\n",
      "1181/1181 [==============================] - 16s 13ms/step - loss: 0.9017 - accuracy: 0.6258 - val_loss: 0.9489 - val_accuracy: 0.6144\n",
      "Epoch 236/250\n",
      "1181/1181 [==============================] - 16s 13ms/step - loss: 0.9073 - accuracy: 0.6218 - val_loss: 0.9550 - val_accuracy: 0.6100\n",
      "Epoch 237/250\n",
      "1181/1181 [==============================] - 16s 13ms/step - loss: 0.9071 - accuracy: 0.6217 - val_loss: 0.9501 - val_accuracy: 0.6127\n",
      "Epoch 238/250\n",
      "1181/1181 [==============================] - 16s 13ms/step - loss: 0.9060 - accuracy: 0.6245 - val_loss: 0.9503 - val_accuracy: 0.6137\n",
      "Epoch 239/250\n",
      "1181/1181 [==============================] - 16s 13ms/step - loss: 0.8984 - accuracy: 0.6291 - val_loss: 0.9469 - val_accuracy: 0.6123\n",
      "Epoch 240/250\n",
      "1181/1181 [==============================] - 16s 13ms/step - loss: 0.9021 - accuracy: 0.6266 - val_loss: 0.9482 - val_accuracy: 0.6124\n",
      "Epoch 241/250\n",
      "1181/1181 [==============================] - 16s 13ms/step - loss: 0.9015 - accuracy: 0.6274 - val_loss: 0.9534 - val_accuracy: 0.6114\n",
      "Epoch 242/250\n",
      "1181/1181 [==============================] - 16s 13ms/step - loss: 0.9116 - accuracy: 0.6201 - val_loss: 0.9506 - val_accuracy: 0.6152\n",
      "Epoch 243/250\n",
      "1181/1181 [==============================] - 16s 13ms/step - loss: 0.9060 - accuracy: 0.6229 - val_loss: 0.9492 - val_accuracy: 0.6166\n",
      "Epoch 244/250\n",
      "1181/1181 [==============================] - 16s 14ms/step - loss: 0.9089 - accuracy: 0.6212 - val_loss: 0.9531 - val_accuracy: 0.6143\n",
      "Epoch 245/250\n",
      "1181/1181 [==============================] - 16s 14ms/step - loss: 0.9036 - accuracy: 0.6202 - val_loss: 0.9575 - val_accuracy: 0.6165\n",
      "Epoch 246/250\n",
      "1181/1181 [==============================] - 16s 13ms/step - loss: 0.9054 - accuracy: 0.6215 - val_loss: 0.9520 - val_accuracy: 0.6149\n",
      "Epoch 247/250\n",
      "1181/1181 [==============================] - 16s 13ms/step - loss: 0.9027 - accuracy: 0.6283 - val_loss: 0.9489 - val_accuracy: 0.6165\n",
      "Epoch 248/250\n",
      "1181/1181 [==============================] - 16s 13ms/step - loss: 0.9074 - accuracy: 0.6255 - val_loss: 0.9582 - val_accuracy: 0.6148\n",
      "Epoch 249/250\n",
      "1181/1181 [==============================] - 16s 13ms/step - loss: 0.9089 - accuracy: 0.6225 - val_loss: 0.9554 - val_accuracy: 0.6139\n",
      "Epoch 250/250\n",
      "1181/1181 [==============================] - 16s 13ms/step - loss: 0.9093 - accuracy: 0.6206 - val_loss: 0.9565 - val_accuracy: 0.6124\n"
     ]
    }
   ],
   "source": [
    "\n",
    "## earlystoping\n",
    "early_stopping = tf.keras.callbacks.EarlyStopping(\n",
    "    monitor='val_accuracy', \n",
    "    verbose=1,\n",
    "    patience=30,\n",
    "    mode='max',\n",
    "    restore_best_weights=True)\n",
    "\n",
    "# Model optimiser and training code.\n",
    "opt = tf.keras.optimizers.Adadelta(learning_rate=1.0)\n",
    "model.compile(loss='categorical_crossentropy', optimizer=opt, metrics=['accuracy'])\n",
    "history = model.fit(X_train, y_train,\n",
    "                    batch_size=32,\n",
    "                    epochs=250,\n",
    "                    verbose=1,\n",
    "                    use_multiprocessing=True,  \n",
    "                    #callbacks=[early_stopping],                   \n",
    "                    validation_data=(X_test, y_test))"
   ]
  },
  {
   "cell_type": "code",
   "execution_count": 35,
   "metadata": {
    "executionInfo": {
     "elapsed": 3850980,
     "status": "ok",
     "timestamp": 1615908943960,
     "user": {
      "displayName": "Anthony BONFILS",
      "photoUrl": "",
      "userId": "14510571853712567813"
     },
     "user_tz": -60
    },
    "id": "V-ZvGda3jPuD"
   },
   "outputs": [],
   "source": [
    "# Create a directory for saving figures.\n",
    "if not os.path.isdir('figures'):\n",
    "    os.makedirs('figures')"
   ]
  },
  {
   "cell_type": "code",
   "execution_count": 41,
   "metadata": {
    "colab": {
     "base_uri": "https://localhost:8080/",
     "height": 513
    },
    "executionInfo": {
     "elapsed": 1508,
     "status": "ok",
     "timestamp": 1615909280699,
     "user": {
      "displayName": "Anthony BONFILS",
      "photoUrl": "",
      "userId": "14510571853712567813"
     },
     "user_tz": -60
    },
    "id": "8wKQwZN2CL9R",
    "outputId": "0b5c6f21-36f0-4270-e1b4-9c753082fb3f"
   },
   "outputs": [
    {
     "data": {
      "image/png": "[encoded data removed]",
      "text/plain": [
       "<Figure size 864x576 with 1 Axes>"
      ]
     },
     "metadata": {
      "needs_background": "light",
      "tags": []
     },
     "output_type": "display_data"
    }
   ],
   "source": [
    "# Accuracy plot for the model. \n",
    "\n",
    "fig = plt.figure(figsize=[12,8])\n",
    "plt.plot(history.history['accuracy'])\n",
    "plt.plot(history.history['val_accuracy'])\n",
    "plt.title('Attention BiLSTM Model Accuracy')\n",
    "plt.ylabel('accuracy')\n",
    "plt.xlabel('epoch')\n",
    "plt.legend(['train', 'test'], loc='best')\n",
    "plt.savefig('./figures/Bilstm_accuracy.png')\n",
    "plt.show()"
   ]
  },
  {
   "cell_type": "code",
   "execution_count": 42,
   "metadata": {
    "colab": {
     "base_uri": "https://localhost:8080/",
     "height": 133
    },
    "executionInfo": {
     "elapsed": 1402,
     "status": "error",
     "timestamp": 1615909282570,
     "user": {
      "displayName": "Anthony BONFILS",
      "photoUrl": "",
      "userId": "14510571853712567813"
     },
     "user_tz": -60
    },
    "id": "6BsKeD1vjRfW",
    "outputId": "c128ce32-7afc-4fb8-b6ab-05b57d9b4448"
   },
   "outputs": [
    {
     "ename": "SyntaxError",
     "evalue": "ignored",
     "output_type": "error",
     "traceback": [
      "\u001b[0;36m  File \u001b[0;32m\"<ipython-input-42-38736f2fae25>\"\u001b[0;36m, line \u001b[0;32m4\u001b[0m\n\u001b[0;31m    plt.plot(history.history['loss'])\u001b[0m\n\u001b[0m      ^\u001b[0m\n\u001b[0;31mSyntaxError\u001b[0m\u001b[0;31m:\u001b[0m invalid syntax\n"
     ]
    }
   ],
   "source": [
    "# Loss plot for the Model.\n",
    "\n",
    "fig = plt.figure(figsize=[12,8]\n",
    "plt.plot(history.history['loss'])\n",
    "plt.plot(history.history['val_loss'])\n",
    "plt.title('Attention BiLSTM Model loss')\n",
    "plt.ylabel('accuracy')\n",
    "plt.xlabel('epoch')\n",
    "plt.legend(['train', 'test'], loc='best')\n",
    "plt.savefig('./figures/Bilstm_loss.png')\n",
    "plt.show()"
   ]
  },
  {
   "cell_type": "code",
   "execution_count": 38,
   "metadata": {
    "executionInfo": {
     "elapsed": 3852536,
     "status": "ok",
     "timestamp": 1615908946132,
     "user": {
      "displayName": "Anthony BONFILS",
      "photoUrl": "",
      "userId": "14510571853712567813"
     },
     "user_tz": -60
    },
    "id": "fQ_TQbTNj4dC"
   },
   "outputs": [],
   "source": [
    "# prediction on test data for prediction Metrics\n",
    "y_pred = model.predict(X_test)\n",
    "Y_test = np.argmax(y_test, axis=1) \n",
    "y_pred_class = np.argmax(y_pred,axis=1)"
   ]
  },
  {
   "cell_type": "code",
   "execution_count": 39,
   "metadata": {
    "colab": {
     "base_uri": "https://localhost:8080/"
    },
    "executionInfo": {
     "elapsed": 3852325,
     "status": "ok",
     "timestamp": 1615908946136,
     "user": {
      "displayName": "Anthony BONFILS",
      "photoUrl": "",
      "userId": "14510571853712567813"
     },
     "user_tz": -60
    },
    "id": "YXk-nr6WcFii",
    "outputId": "5966733b-d68f-40cb-b2c3-0bfd23f1868b"
   },
   "outputs": [
    {
     "name": "stdout",
     "output_type": "stream",
     "text": [
      "              precision    recall  f1-score   support\n",
      "\n",
      "     neutral       0.46      0.35      0.40      1898\n",
      "       happy       0.62      0.71      0.66      3252\n",
      "         sad       0.60      0.65      0.62      3195\n",
      "        hate       0.87      0.68      0.76       877\n",
      "       anger       0.91      0.68      0.78       220\n",
      "\n",
      "    accuracy                           0.61      9442\n",
      "   macro avg       0.69      0.61      0.64      9442\n",
      "weighted avg       0.61      0.61      0.61      9442\n",
      "\n"
     ]
    }
   ],
   "source": [
    "# Classification report for the predicted results.\n",
    "\n",
    "classes = [\"neutral\", \"happy\", \"sad\", \"hate\",\"anger\"]\n",
    "print(classification_report(Y_test, y_pred_class, target_names=classes))"
   ]
  },
  {
   "cell_type": "code",
   "execution_count": 40,
   "metadata": {
    "colab": {
     "base_uri": "https://localhost:8080/",
     "height": 743
    },
    "executionInfo": {
     "elapsed": 3853369,
     "status": "ok",
     "timestamp": 1615908947415,
     "user": {
      "displayName": "Anthony BONFILS",
      "photoUrl": "",
      "userId": "14510571853712567813"
     },
     "user_tz": -60
    },
    "id": "inV85J9ocmFC",
    "outputId": "9333f865-2f3b-4206-eeda-126f3d5cc07a"
   },
   "outputs": [
    {
     "data": {
      "image/png": "[encoded data removed]",
      "text/plain": [
       "<Figure size 1440x720 with 2 Axes>"
      ]
     },
     "metadata": {
      "needs_background": "light",
      "tags": []
     },
     "output_type": "display_data"
    }
   ],
   "source": [
    "# Confusion matrix for results visualistaion\n",
    "\n",
    "cnf_matrix = confusion_matrix(Y_test, y_pred_class)\n",
    "\n",
    "def plot_confusion_matrix(cm, labels,\n",
    "                          normalize=True,\n",
    "                          title='Confusion Matrix (Validation Set)',\n",
    "                          cmap=plt.cm.Blues):\n",
    "    \"\"\"\n",
    "    This function prints and plots the confusion matrix.\n",
    "    Normalization can be applied by setting `normalize=True`.\n",
    "    \"\"\"\n",
    "    if normalize:\n",
    "        cm = cm.astype('float') / cm.sum(axis=1)[:, np.newaxis]\n",
    "        #print(\"Normalized confusion matrix\")\n",
    "    else:\n",
    "        #print('Confusion matrix, without normalization')\n",
    "        pass\n",
    "\n",
    "    #print(cm)\n",
    "\n",
    "    plt.imshow(cm, interpolation='nearest', cmap=cmap)\n",
    "    plt.title(title)\n",
    "    plt.colorbar()\n",
    "    tick_marks = np.arange(len(labels))\n",
    "    plt.xticks(tick_marks, labels, rotation=45)\n",
    "    plt.yticks(tick_marks, labels)\n",
    "\n",
    "    fmt = '.2f' if normalize else 'd'\n",
    "    thresh = cm.max() / 2.\n",
    "    for i, j in itertools.product(range(cm.shape[0]), range(cm.shape[1])):\n",
    "        plt.text(j, i, format(cm[i, j], fmt),\n",
    "                 horizontalalignment=\"center\",\n",
    "                 color=\"white\" if cm[i, j] > thresh else \"black\")\n",
    "\n",
    "    plt.tight_layout()\n",
    "    plt.ylabel('True label')\n",
    "    plt.xlabel('Predicted label')\n",
    "    plt.savefig('conf_matrix.png')\n",
    "\n",
    "plt.figure(figsize=(20,10))\n",
    "plot_confusion_matrix(cnf_matrix, labels=classes)"
   ]
  },
  {
   "cell_type": "code",
   "execution_count": null,
   "metadata": {
    "id": "kM9oHBS4WD6V"
   },
   "outputs": [],
   "source": []
  }
 ],
 "metadata": {
  "accelerator": "GPU",
  "colab": {
   "collapsed_sections": [],
   "name": "GloVe-Attention-BILSTM.ipynb",
   "provenance": []
  },
  "kernelspec": {
   "display_name": "Python 3",
   "language": "python",
   "name": "python3"
  },
  "language_info": {
   "codemirror_mode": {
    "name": "ipython",
    "version": 3
   },
   "file_extension": ".py",
   "mimetype": "text/x-python",
   "name": "python",
   "nbconvert_exporter": "python",
   "pygments_lexer": "ipython3",
   "version": "3.8.3"
  }
 },
 "nbformat": 4,
 "nbformat_minor": 1
}
